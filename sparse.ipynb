{
 "cells": [
  {
   "cell_type": "code",
   "execution_count": 3,
   "metadata": {},
   "outputs": [
    {
     "name": "stdout",
     "output_type": "stream",
     "text": [
      "uint8\n"
     ]
    },
    {
     "ename": "error",
     "evalue": "OpenCV(4.6.0) /io/opencv/modules/imgproc/src/color.cpp:182: error: (-215:Assertion failed) !_src.empty() in function 'cvtColor'\n",
     "output_type": "error",
     "traceback": [
      "\u001b[0;31m---------------------------------------------------------------------------\u001b[0m",
      "\u001b[0;31merror\u001b[0m                                     Traceback (most recent call last)",
      "\u001b[0;32m<ipython-input-3-4be22c1b6ccd>\u001b[0m in \u001b[0;36m<module>\u001b[0;34m\u001b[0m\n\u001b[1;32m     25\u001b[0m     \u001b[0mret\u001b[0m\u001b[0;34m,\u001b[0m \u001b[0mframe\u001b[0m \u001b[0;34m=\u001b[0m \u001b[0mcap\u001b[0m\u001b[0;34m.\u001b[0m\u001b[0mread\u001b[0m\u001b[0;34m(\u001b[0m\u001b[0;34m)\u001b[0m\u001b[0;34m\u001b[0m\u001b[0;34m\u001b[0m\u001b[0m\n\u001b[1;32m     26\u001b[0m     \u001b[0;31m# Converts each frame to grayscale - we previously only converted the first frame to grayscale\u001b[0m\u001b[0;34m\u001b[0m\u001b[0;34m\u001b[0m\u001b[0;34m\u001b[0m\u001b[0m\n\u001b[0;32m---> 27\u001b[0;31m     \u001b[0mgray\u001b[0m \u001b[0;34m=\u001b[0m \u001b[0mcv\u001b[0m\u001b[0;34m.\u001b[0m\u001b[0mcvtColor\u001b[0m\u001b[0;34m(\u001b[0m\u001b[0mframe\u001b[0m\u001b[0;34m,\u001b[0m \u001b[0mcv\u001b[0m\u001b[0;34m.\u001b[0m\u001b[0mCOLOR_BGR2GRAY\u001b[0m\u001b[0;34m)\u001b[0m\u001b[0;34m\u001b[0m\u001b[0;34m\u001b[0m\u001b[0m\n\u001b[0m\u001b[1;32m     28\u001b[0m     \u001b[0;31m# Calculates sparse optical flow by Lucas-Kanade method\u001b[0m\u001b[0;34m\u001b[0m\u001b[0;34m\u001b[0m\u001b[0;34m\u001b[0m\u001b[0m\n\u001b[1;32m     29\u001b[0m     \u001b[0;31m# https://docs.opencv.org/3.0-beta/modules/video/doc/motion_analysis_and_object_tracking.html#calcopticalflowpyrlk\u001b[0m\u001b[0;34m\u001b[0m\u001b[0;34m\u001b[0m\u001b[0;34m\u001b[0m\u001b[0m\n",
      "\u001b[0;31merror\u001b[0m: OpenCV(4.6.0) /io/opencv/modules/imgproc/src/color.cpp:182: error: (-215:Assertion failed) !_src.empty() in function 'cvtColor'\n"
     ]
    }
   ],
   "source": [
    "import cv2 as cv\n",
    "import numpy as np\n",
    "\n",
    "# Parameters for Shi-Tomasi corner detection\n",
    "feature_params = dict(maxCorners = 300, qualityLevel = 0.2, minDistance = 2, blockSize = 7)\n",
    "# Parameters for Lucas-Kanade optical flow\n",
    "lk_params = dict(winSize = (15,15), maxLevel = 2, criteria = (cv.TERM_CRITERIA_EPS | cv.TERM_CRITERIA_COUNT, 10, 0.03))\n",
    "# The video feed is read in as a VideoCapture object\n",
    "cap = cv.VideoCapture(\"planet.mp4\")\n",
    "# Variable for color to draw optical flow track\n",
    "color = (0, 255, 0)\n",
    "# ret = a boolean return value from getting the frame, first_frame = the first frame in the entire video sequence\n",
    "ret, first_frame = cap.read()\n",
    "# Converts frame to grayscale because we only need the luminance channel for detecting edges - less computationally expensive\n",
    "prev_gray = cv.cvtColor(first_frame, cv.COLOR_BGR2GRAY)\n",
    "print(prev_gray.dtype)\n",
    "# Finds the strongest corners in the first frame by Shi-Tomasi method - we will track the optical flow for these corners\n",
    "# https://docs.opencv.org/3.0-beta/modules/imgproc/doc/feature_detection.html#goodfeaturestotrack\n",
    "prev = cv.goodFeaturesToTrack(prev_gray, mask = None, **feature_params)\n",
    "# Creates an image filled with zero intensities with the same dimensions as the frame - for later drawing purposes\n",
    "mask = np.zeros_like(first_frame)\n",
    "\n",
    "while(cap.isOpened()):\n",
    "    # ret = a boolean return value from getting the frame, frame = the current frame being projected in the video\n",
    "    ret, frame = cap.read()\n",
    "    # Converts each frame to grayscale - we previously only converted the first frame to grayscale\n",
    "    gray = cv.cvtColor(frame, cv.COLOR_BGR2GRAY)\n",
    "    # Calculates sparse optical flow by Lucas-Kanade method\n",
    "    # https://docs.opencv.org/3.0-beta/modules/video/doc/motion_analysis_and_object_tracking.html#calcopticalflowpyrlk\n",
    "    prev = cv.goodFeaturesToTrack(prev_gray, mask = None, **feature_params)\n",
    "    next, status, error = cv.calcOpticalFlowPyrLK(prev_gray, gray, prev, None, **lk_params)\n",
    "    # Selects good feature points for previous position\n",
    "    good_old = prev[status == 1].astype(int)\n",
    "    # Selects good feature points for next position\n",
    "    good_new = next[status == 1].astype(int)\n",
    "    # Draws the optical flow tracks\n",
    "    for i, (new, old) in enumerate(zip(good_new, good_old)):\n",
    "        # Returns a contiguous flattened array as (x, y) coordinates for new point\n",
    "        a, b = new.ravel()\n",
    "        # Returns a contiguous flattened array as (x, y) coordinates for old point\n",
    "        c, d = old.ravel()\n",
    "        # Draws line between new and old position with green color and 2 thickness\n",
    "        mask = cv.line(mask, (a, b), (c, d), color, 2)\n",
    "        # Draws filled circle (thickness of -1) at new position with green color and radius of 3\n",
    "        frame = cv.circle(frame, (a, b), 3, color, -1)\n",
    "    # Overlays the optical flow tracks on the original frame\n",
    "    output = cv.add(frame, mask)\n",
    "    # Updates previous frame\n",
    "    prev_gray = gray.copy()\n",
    "    # Updates previous good feature points\n",
    "    prev = good_new.reshape(-1, 1, 2)\n",
    "    # Opens a new window and displays the output frame\n",
    "    cv.imshow(\"sparse optical flow\", output)\n",
    "    # Frames are read by intervals of 10 milliseconds. The programs breaks out of the while loop when the user presses the 'q' key\n",
    "    if cv.waitKey(10) & 0xFF == ord('q'):\n",
    "        break\n",
    "# The following frees up resources and closes all windows\n",
    "cap.release()\n",
    "cv.destroyAllWindows()\n"
   ]
  },
  {
   "cell_type": "code",
   "execution_count": null,
   "metadata": {},
   "outputs": [],
   "source": []
  },
  {
   "cell_type": "code",
   "execution_count": null,
   "metadata": {},
   "outputs": [],
   "source": []
  },
  {
   "cell_type": "code",
   "execution_count": null,
   "metadata": {},
   "outputs": [],
   "source": []
  }
 ],
 "metadata": {
  "kernelspec": {
   "display_name": "Python 3 (ipykernel)",
   "language": "python",
   "name": "python3"
  },
  "language_info": {
   "codemirror_mode": {
    "name": "ipython",
    "version": 3
   },
   "file_extension": ".py",
   "mimetype": "text/x-python",
   "name": "python",
   "nbconvert_exporter": "python",
   "pygments_lexer": "ipython3",
   "version": "3.8.3"
  }
 },
 "nbformat": 4,
 "nbformat_minor": 4
}
